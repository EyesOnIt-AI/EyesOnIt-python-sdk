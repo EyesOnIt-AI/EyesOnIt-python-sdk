{
  "nbformat": 4,
  "nbformat_minor": 0,
  "metadata": {
    "colab": {
      "provenance": []
    },
    "kernelspec": {
      "name": "python3",
      "display_name": "Python 3"
    },
    "language_info": {
      "name": "python"
    }
  },
  "cells": [
    {
      "cell_type": "code",
      "execution_count": null,
      "metadata": {
        "id": "MaUCvnrgN9wV"
      },
      "outputs": [],
      "source": []
    },
    {
      "cell_type": "markdown",
      "source": [
        "First install the EyesOnIt SDK"
      ],
      "metadata": {
        "id": "Rj9aFFC4OEDX"
      }
    },
    {
      "cell_type": "code",
      "source": [
        "pip install EyesOnIt"
      ],
      "metadata": {
        "id": "GcZqmH8jPZQG"
      },
      "execution_count": null,
      "outputs": []
    },
    {
      "cell_type": "markdown",
      "source": [
        "Now process a single image"
      ],
      "metadata": {
        "id": "P5O40hytOKjI"
      }
    },
    {
      "cell_type": "code",
      "source": [
        "from EyesOnIt import EyesOnItSDK, EOIPrompt, EOIRegion\n",
        "\n",
        "\n",
        "prompt_one = EOIPrompt(text='person', background_prompt=False, threshold=90)\n",
        "prompt_two = EOIPrompt(text='trees', background_prompt=True)\n",
        "prompts = [prompt_one, prompt_two]\n",
        "\n",
        "region_one = EOIRegion(top_left_x=4, top_left_y=9, width=300, height=300)\n",
        "regions = [region_one]\n",
        "\n",
        "\n",
        "app = EyesOnItSDK('http://127.0.0.1:8000')\n",
        "\n",
        "result = app.process_image(prompts=prompts, regions=regions, image=\"/home/1.png\")\n",
        "print(result.success)\n",
        "print(result.message)\n"
      ],
      "metadata": {
        "id": "ACc0ADWnPdu1"
      },
      "execution_count": null,
      "outputs": []
    },
    {
      "cell_type": "markdown",
      "source": [
        "Now process a video stream"
      ],
      "metadata": {
        "id": "jOOCoEwbPgGy"
      }
    },
    {
      "cell_type": "code",
      "source": [
        "import time\n",
        "from EyesOnIt import EyesOnItSDK, EOIPrompt, EOIRegion, EOIAlerting, EOIEfficientDetection, EOIBoundingBox\n",
        "\n",
        "\n",
        "prompt_one = EOIPrompt(text='person', background_prompt=False, threshold=90)\n",
        "prompt_two = EOIPrompt(text='trees', background_prompt=True)\n",
        "prompts = [prompt_one, prompt_two]\n",
        "\n",
        "region_one = EOIRegion(top_left_x=4, top_left_y=9, width=500, height=300)\n",
        "regions = [region_one]\n",
        "\n",
        "alerting_settings = EOIAlerting(alert_seconds_count=2, reset_seconds_count=60)\n",
        "\n",
        "efficient_detection_settings = EOIEfficientDetection(periodic_check_enabled=True, periodic_check_seconds=1)\n",
        "\n",
        "bounding_box_settings = EOIBoundingBox(bounding_box_enabled=False)\n",
        "\n",
        "app = EyesOnItSDK('http://127.0.0.1:8000')\n",
        "\n",
        "\n",
        "result = app.add_stream(stream_url='rtsp://192.168.0.10:654/00000001-0000-babe-0000-b8a44f754706/live',\n",
        "                        name='my_demo_stream',\n",
        "                        frame_rate=5,\n",
        "                        prompts=prompts,\n",
        "                        regions=regions,\n",
        "                        alerting=alerting_settings,\n",
        "                        efficient_detection=efficient_detection_settings,\n",
        "                        bounding_box=bounding_box_settings)\n",
        "print(result.success)\n",
        "print(result.message)\n",
        "\n",
        "time.sleep(5)\n",
        "\n",
        "# if you don't specify duration_seconds the stream is monitored indefinitely\n",
        "result = app.monitor_stream(stream_url='rtsp://192.168.0.10:654/00000001-0000-babe-0000-b8a44f754706/live',\n",
        "                            duration_seconds=120)\n",
        "print(result.success)\n",
        "print(result.message)\n",
        "\n",
        "time.sleep(15)\n",
        "\n",
        "result = app.get_bounding_box_objects()\n",
        "print(result.success)\n",
        "print(result.message)\n",
        "\n",
        "time.sleep(5)\n",
        "\n",
        "result = app.get_streams_info()\n",
        "print(result.success)\n",
        "print(result.message)\n",
        "\n",
        "time.sleep(5)\n",
        "\n",
        "result = app.get_video_frame(stream_url='rtsp://192.168.0.10:654/00000001-0000-babe-0000-b8a44f754706/live')\n",
        "print(result.success)\n",
        "image_from_stream = result.message['image']\n",
        "image_from_stream.save('my_video_frame.jpg')\n",
        "\n",
        "time.sleep(5)\n",
        "\n",
        "result = app.stop_monitoring(stream_url='rtsp://192.168.0.10:654/00000001-0000-babe-0000-b8a44f754706/live')\n",
        "print(result.success)\n",
        "print(result.message)\n",
        "\n",
        "time.sleep(5)\n",
        "\n",
        "result = app.remove_stream(stream_url='rtsp://192.168.0.10:654/00000001-0000-babe-0000-b8a44f754706/live')\n",
        "print(result.success)\n",
        "print(result.message)"
      ],
      "metadata": {
        "id": "qTxIEpgAPh-c"
      },
      "execution_count": null,
      "outputs": []
    }
  ]
}